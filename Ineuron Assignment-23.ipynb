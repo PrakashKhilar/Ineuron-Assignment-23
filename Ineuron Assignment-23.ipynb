{
 "cells": [
  {
   "cell_type": "markdown",
   "id": "079cf7ba",
   "metadata": {},
   "source": [
    "# Ineuron Assignment-23"
   ]
  },
  {
   "cell_type": "markdown",
   "id": "6a9ed909",
   "metadata": {},
   "source": [
    "SUBMITTED BY : PRAAKSH KHILAR"
   ]
  },
  {
   "cell_type": "code",
   "execution_count": null,
   "id": "9520de8d",
   "metadata": {},
   "outputs": [],
   "source": [
    "# Q1 : What is the result of the code, and why?\n",
    "\n",
    ">>> def func(a, b=6, c=8):\n",
    "print(a, b, c)\n",
    ">>> func(1, 2)"
   ]
  },
  {
   "cell_type": "code",
   "execution_count": null,
   "id": "578a1960",
   "metadata": {},
   "outputs": [],
   "source": [
    "# Ans ;\n",
    "\n",
    "The result of the above code is 1 2 8. It is because the function uses the default value of c \n",
    "i.e 8 which is provided at the time of declaration. \n",
    "We can see this below:"
   ]
  },
  {
   "cell_type": "code",
   "execution_count": 1,
   "id": "28d5050a",
   "metadata": {},
   "outputs": [
    {
     "name": "stdout",
     "output_type": "stream",
     "text": [
      "1 2 8\n"
     ]
    }
   ],
   "source": [
    "def func(a,b=6,c=8):\n",
    "    print(a,b,c)\n",
    "func(1,2)"
   ]
  },
  {
   "cell_type": "code",
   "execution_count": null,
   "id": "3df4e8de",
   "metadata": {},
   "outputs": [],
   "source": [
    "# Q2 : What is the result of this code, and why?\n",
    "\n",
    ">>> def func(a, b, c=5):\n",
    "print(a, b, c)\n",
    ">>> func(1, c=3, b=2)"
   ]
  },
  {
   "cell_type": "code",
   "execution_count": null,
   "id": "8efd178a",
   "metadata": {},
   "outputs": [],
   "source": [
    "# Ans;\n",
    "\n",
    "The result of the above code is 1 2 3.\n",
    "It is because the function will use default values only when a value for a argument is not provided \n",
    "And if the argument name is mentioned while doing a function call, the order of arguments is also ignored by the python interpreter"
   ]
  },
  {
   "cell_type": "code",
   "execution_count": 2,
   "id": "4ba4ce98",
   "metadata": {},
   "outputs": [
    {
     "name": "stdout",
     "output_type": "stream",
     "text": [
      "1 2 3\n"
     ]
    }
   ],
   "source": [
    "def func(a,b,c=5):\n",
    "    print(a,b,c)\n",
    "func(1,c=3,b=2)"
   ]
  },
  {
   "cell_type": "code",
   "execution_count": null,
   "id": "2e7bb81c",
   "metadata": {},
   "outputs": [],
   "source": [
    "# Q3 : How about this code: what is its result, and why?\n",
    "\n",
    ">>> def func(a, *pargs):\n",
    "print(a, pargs)\n",
    ">>> func(1, 2, 3)"
   ]
  },
  {
   "cell_type": "code",
   "execution_count": null,
   "id": "d4c4e1d4",
   "metadata": {},
   "outputs": [],
   "source": [
    "# Ans ;\n",
    "\n",
    "The result of the code is 1 (2,3). *pargs stands for variable length arguments. \n",
    "This format is used when we are not sure about the number of arguments to be passed to a function. \n",
    "All the values under this argument will be stored in a tuple."
   ]
  },
  {
   "cell_type": "code",
   "execution_count": 3,
   "id": "4d994e52",
   "metadata": {},
   "outputs": [
    {
     "name": "stdout",
     "output_type": "stream",
     "text": [
      "1 (2, 3)\n"
     ]
    }
   ],
   "source": [
    "def func(a, *pargs):\n",
    "    print(a,pargs)\n",
    "func(1,2,3)"
   ]
  },
  {
   "cell_type": "code",
   "execution_count": null,
   "id": "87c269cd",
   "metadata": {},
   "outputs": [],
   "source": [
    "# Q4 : What does this code print, and why?\n",
    "\n",
    ">>> def func(a, **kargs):\n",
    "print(a, kargs)\n",
    ">>> func(a=1, c=3, b=2)"
   ]
  },
  {
   "cell_type": "code",
   "execution_count": null,
   "id": "b8375c0d",
   "metadata": {},
   "outputs": [],
   "source": [
    "# Ans;\n",
    "\n",
    "The result of the above code is 1 {'c': 3, 'b': 2}. **args stands for variable length keyword arguments.\n",
    "This format is used when we want pass key value pairs as input to a function.\n",
    "All these key value pairs will be stored in a dictionary"
   ]
  },
  {
   "cell_type": "code",
   "execution_count": 4,
   "id": "ddc05867",
   "metadata": {},
   "outputs": [
    {
     "name": "stdout",
     "output_type": "stream",
     "text": [
      "1 {'c': 3, 'b': 2}\n"
     ]
    }
   ],
   "source": [
    "def func(a,**kargs):\n",
    "    print(a,kargs)\n",
    "func(a=1,c=3,b=2)"
   ]
  },
  {
   "cell_type": "code",
   "execution_count": null,
   "id": "99d90a4b",
   "metadata": {},
   "outputs": [],
   "source": [
    "# Q5 : What gets printed by this, and explain?\n",
    "\n",
    ">>> def func(a, b, c=8, d=5): print(a, b, c, d)\n",
    ">>> func(1, *(5, 6))"
   ]
  },
  {
   "cell_type": "code",
   "execution_count": null,
   "id": "a5568800",
   "metadata": {},
   "outputs": [],
   "source": [
    "# Ans ;\n",
    "\n",
    "The output of the above is 1 5 6 5. \n",
    "The reason for this function not throwing an error is because, this function expects 4 arguments. \n",
    "The value for a is provided explicitly whereas for arguments b and c,\n",
    "The function will expand *(5,6) and consider the value of b as 5 and value of c as 6. \n",
    "Since the default value of d is provided in function declaration, d value will be 5. \n",
    "However it is recommended to use the feature of positional arguments at the end."
   ]
  },
  {
   "cell_type": "code",
   "execution_count": 5,
   "id": "afb1dba2",
   "metadata": {},
   "outputs": [
    {
     "name": "stdout",
     "output_type": "stream",
     "text": [
      "1 5 6 5\n"
     ]
    }
   ],
   "source": [
    "def func(a,b,c=8,d=5):\n",
    "    print(a,b,c,d)\n",
    "func(1,*(5,6))"
   ]
  },
  {
   "cell_type": "code",
   "execution_count": null,
   "id": "dcb123c5",
   "metadata": {},
   "outputs": [],
   "source": [
    "# Q6 : what is the result of this, and explain?\n",
    "\n",
    ">>> def func(a, b, c): a = 2; b[0] = 'x'; c['a'] = 'y'\n",
    ">>> l=1; m=[1]; n={'a':0}\n",
    ">>> func(l, m, n)\n",
    ">>> l, m, n"
   ]
  },
  {
   "cell_type": "code",
   "execution_count": null,
   "id": "06cd261f",
   "metadata": {},
   "outputs": [],
   "source": [
    "# Ans ;\n",
    "\n",
    "The output of above code is 1, ['x'], {'a': 'y'}.\n",
    "\n",
    "Even though Python gives importance to indentation, \n",
    "it provides a facility to declare an entire function in one single line where statements in a function body are sepereated by ;\n",
    "When l,m,n are provided as inputs to the function, \n",
    "it modifies the values of l,m,n and sets the value of l=2 ,m=['x'] and n={'a':'y'}"
   ]
  },
  {
   "cell_type": "code",
   "execution_count": 6,
   "id": "989dec5f",
   "metadata": {},
   "outputs": [
    {
     "data": {
      "text/plain": [
       "(1, ['x'], {'a': 'y'})"
      ]
     },
     "execution_count": 6,
     "metadata": {},
     "output_type": "execute_result"
    }
   ],
   "source": [
    "def func(a, b, c): a = 2; b[0] = 'x'; c['a'] = 'y'\n",
    "l=1; m=[1]; n={'a':0}\n",
    "func(l, m, n)\n",
    "l,m,n"
   ]
  },
  {
   "cell_type": "code",
   "execution_count": null,
   "id": "d48fe545",
   "metadata": {},
   "outputs": [],
   "source": []
  }
 ],
 "metadata": {
  "kernelspec": {
   "display_name": "Python 3 (ipykernel)",
   "language": "python",
   "name": "python3"
  },
  "language_info": {
   "codemirror_mode": {
    "name": "ipython",
    "version": 3
   },
   "file_extension": ".py",
   "mimetype": "text/x-python",
   "name": "python",
   "nbconvert_exporter": "python",
   "pygments_lexer": "ipython3",
   "version": "3.9.12"
  }
 },
 "nbformat": 4,
 "nbformat_minor": 5
}
